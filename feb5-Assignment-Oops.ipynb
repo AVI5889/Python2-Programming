{
 "cells": [
  {
   "cell_type": "markdown",
   "id": "67066486-f8ad-4fa5-91ef-41feab4f4d25",
   "metadata": {},
   "source": [
    "Feb-5-Oops-Assignment"
   ]
  },
  {
   "cell_type": "code",
   "execution_count": null,
   "id": "2a758663-8cc1-4334-b529-1c7ee3b158c7",
   "metadata": {},
   "outputs": [],
   "source": [
    "Qno 1. Explain class and object with respect to obeject-oriented programming. Give suitable example."
   ]
  },
  {
   "cell_type": "code",
   "execution_count": null,
   "id": "9b4e07a4-e6bd-4963-8a50-53bf3f0d22dc",
   "metadata": {},
   "outputs": [],
   "source": [
    "Ans - In object-oriented programming, a class is a blueprint for creating objects (a particular data structure), \n",
    "      providing initial values for state (member variables or attributes),and implementations of behavior \n",
    "      (member functions or methods).The user-defined objects are created using the class keyword.\n",
    "       For example, suppose Bike is a class then we can create objects like bike1 , bike2 , etc from the class.\n",
    "      \n",
    "     An object is a component of a program that knows how to perform certain actions and how to interact with other elements of the program. \n",
    "     Objects are the basic units of object-oriented programming. A simple example of an object would be a person.\n",
    "     would be a person. Logically, you would expect a person to have a name. "
   ]
  },
  {
   "cell_type": "code",
   "execution_count": null,
   "id": "d428b07f-bf7c-4679-a639-4b84d6f3f3f9",
   "metadata": {},
   "outputs": [],
   "source": [
    "Qno 2. Name the four pillars of OOPs."
   ]
  },
  {
   "cell_type": "code",
   "execution_count": null,
   "id": "9e3309ce-b41e-4ea6-aded-eec814c47c2f",
   "metadata": {},
   "outputs": [],
   "source": [
    "Ans - The Four Pillars of Object Oriented Programming.\n",
    "       (1) Abstraction.\n",
    "       (2) Encapsulation.\n",
    "       (3) Inheritance.\n",
    "       (4) Polymorphism."
   ]
  },
  {
   "cell_type": "code",
   "execution_count": null,
   "id": "c47c4c56-6bba-41c0-b10b-00ed1bc8ec30",
   "metadata": {},
   "outputs": [],
   "source": [
    "Qno 3. Explain why the __init__() function is used. Give a suitable example."
   ]
  },
  {
   "cell_type": "code",
   "execution_count": null,
   "id": "d147d83b-4597-48ee-8e38-20281aa14c45",
   "metadata": {},
   "outputs": [],
   "source": [
    "Ans - __init__ is a special python method that runs whenever a new object is created. \n",
    "       These types of functions are used to initialize the attributes of that class, \n",
    "        E.g., if the class is Person, then the attributes will be name, age, etc."
   ]
  },
  {
   "cell_type": "code",
   "execution_count": null,
   "id": "789a8030-2175-4399-9aed-ddcd0ab2b47f",
   "metadata": {},
   "outputs": [],
   "source": [
    "Qno 4. Why self is used in OOPs?"
   ]
  },
  {
   "cell_type": "code",
   "execution_count": null,
   "id": "63d4701a-e56b-45ce-bab1-b703940e7e2f",
   "metadata": {},
   "outputs": [],
   "source": [
    "Ans - The self variable is used to represent the instance of the class which is often used in object-oriented programming. \n",
    "      It works as a reference to the object. Python uses the self parameter to refer to instance attributes and methods of the class."
   ]
  },
  {
   "cell_type": "code",
   "execution_count": null,
   "id": "e8ab87c8-1b4f-458d-a1ad-e69e5690643a",
   "metadata": {},
   "outputs": [],
   "source": [
    "Qno 5. What is inheritance? Give an example for each type of inheritance."
   ]
  },
  {
   "cell_type": "code",
   "execution_count": null,
   "id": "f88cc8ff-3e85-414d-a8c0-d1009e5af81d",
   "metadata": {},
   "outputs": [],
   "source": [
    "Ans - Inheritance is a mechanism in which one class acquires the property of another class. \n",
    "      For example, a child inherits the traits of his/her parents. With inheritance, we can reuse the fields and methods of the existing class."
   ]
  }
 ],
 "metadata": {
  "kernelspec": {
   "display_name": "Python 3 (ipykernel)",
   "language": "python",
   "name": "python3"
  },
  "language_info": {
   "codemirror_mode": {
    "name": "ipython",
    "version": 3
   },
   "file_extension": ".py",
   "mimetype": "text/x-python",
   "name": "python",
   "nbconvert_exporter": "python",
   "pygments_lexer": "ipython3",
   "version": "3.10.8"
  }
 },
 "nbformat": 4,
 "nbformat_minor": 5
}
